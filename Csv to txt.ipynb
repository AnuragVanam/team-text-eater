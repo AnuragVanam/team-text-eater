{
 "cells": [
  {
   "cell_type": "code",
   "execution_count": 1,
   "metadata": {},
   "outputs": [],
   "source": [
    "import pandas as pd\n",
    "import os.path"
   ]
  },
  {
   "cell_type": "code",
   "execution_count": 2,
   "metadata": {},
   "outputs": [],
   "source": [
    "df=pd.read_csv(\"testcap.csv\")"
   ]
  },
  {
   "cell_type": "code",
   "execution_count": 3,
   "metadata": {},
   "outputs": [
    {
     "data": {
      "text/html": [
       "<div>\n",
       "<style scoped>\n",
       "    .dataframe tbody tr th:only-of-type {\n",
       "        vertical-align: middle;\n",
       "    }\n",
       "\n",
       "    .dataframe tbody tr th {\n",
       "        vertical-align: top;\n",
       "    }\n",
       "\n",
       "    .dataframe thead th {\n",
       "        text-align: right;\n",
       "    }\n",
       "</style>\n",
       "<table border=\"1\" class=\"dataframe\">\n",
       "  <thead>\n",
       "    <tr style=\"text-align: right;\">\n",
       "      <th></th>\n",
       "      <th>Folder ID</th>\n",
       "      <th>Document ID</th>\n",
       "      <th>Paragraph ID</th>\n",
       "      <th>Paragraph</th>\n",
       "    </tr>\n",
       "  </thead>\n",
       "  <tbody>\n",
       "    <tr>\n",
       "      <th>0</th>\n",
       "      <td>51</td>\n",
       "      <td>101</td>\n",
       "      <td>1</td>\n",
       "      <td>In this Credit Card Agreement (â€œAgreementâ€...</td>\n",
       "    </tr>\n",
       "    <tr>\n",
       "      <th>1</th>\n",
       "      <td>51</td>\n",
       "      <td>101</td>\n",
       "      <td>2</td>\n",
       "      <td>THIS AGREEMENT CONTAINS AN ARBITRATION PROVISI...</td>\n",
       "    </tr>\n",
       "    <tr>\n",
       "      <th>2</th>\n",
       "      <td>51</td>\n",
       "      <td>101</td>\n",
       "      <td>3</td>\n",
       "      <td>Definitions. Other defined terms used in this ...</td>\n",
       "    </tr>\n",
       "    <tr>\n",
       "      <th>3</th>\n",
       "      <td>51</td>\n",
       "      <td>101</td>\n",
       "      <td>4</td>\n",
       "      <td>3. â€œBilling Cycleâ€ means a monthly billing...</td>\n",
       "    </tr>\n",
       "    <tr>\n",
       "      <th>4</th>\n",
       "      <td>51</td>\n",
       "      <td>101</td>\n",
       "      <td>5</td>\n",
       "      <td>6. â€œCash Advanceâ€ means credit you or an A...</td>\n",
       "    </tr>\n",
       "  </tbody>\n",
       "</table>\n",
       "</div>"
      ],
      "text/plain": [
       "   Folder ID  Document ID  Paragraph ID  \\\n",
       "0         51          101             1   \n",
       "1         51          101             2   \n",
       "2         51          101             3   \n",
       "3         51          101             4   \n",
       "4         51          101             5   \n",
       "\n",
       "                                           Paragraph  \n",
       "0  In this Credit Card Agreement (â€œAgreementâ€...  \n",
       "1  THIS AGREEMENT CONTAINS AN ARBITRATION PROVISI...  \n",
       "2  Definitions. Other defined terms used in this ...  \n",
       "3  3. â€œBilling Cycleâ€ means a monthly billing...  \n",
       "4  6. â€œCash Advanceâ€ means credit you or an A...  "
      ]
     },
     "execution_count": 3,
     "metadata": {},
     "output_type": "execute_result"
    }
   ],
   "source": [
    "df"
   ]
  },
  {
   "cell_type": "code",
   "execution_count": 4,
   "metadata": {},
   "outputs": [],
   "source": [
    "df1=df.copy()"
   ]
  },
  {
   "cell_type": "code",
   "execution_count": 5,
   "metadata": {},
   "outputs": [
    {
     "data": {
      "text/html": [
       "<div>\n",
       "<style scoped>\n",
       "    .dataframe tbody tr th:only-of-type {\n",
       "        vertical-align: middle;\n",
       "    }\n",
       "\n",
       "    .dataframe tbody tr th {\n",
       "        vertical-align: top;\n",
       "    }\n",
       "\n",
       "    .dataframe thead th {\n",
       "        text-align: right;\n",
       "    }\n",
       "</style>\n",
       "<table border=\"1\" class=\"dataframe\">\n",
       "  <thead>\n",
       "    <tr style=\"text-align: right;\">\n",
       "      <th></th>\n",
       "      <th>Folder ID</th>\n",
       "      <th>Document ID</th>\n",
       "      <th>Paragraph ID</th>\n",
       "      <th>Paragraph</th>\n",
       "    </tr>\n",
       "  </thead>\n",
       "  <tbody>\n",
       "    <tr>\n",
       "      <th>0</th>\n",
       "      <td>51</td>\n",
       "      <td>101</td>\n",
       "      <td>1</td>\n",
       "      <td>In this Credit Card Agreement (â€œAgreementâ€...</td>\n",
       "    </tr>\n",
       "    <tr>\n",
       "      <th>1</th>\n",
       "      <td>51</td>\n",
       "      <td>101</td>\n",
       "      <td>2</td>\n",
       "      <td>THIS AGREEMENT CONTAINS AN ARBITRATION PROVISI...</td>\n",
       "    </tr>\n",
       "    <tr>\n",
       "      <th>2</th>\n",
       "      <td>51</td>\n",
       "      <td>101</td>\n",
       "      <td>3</td>\n",
       "      <td>Definitions. Other defined terms used in this ...</td>\n",
       "    </tr>\n",
       "    <tr>\n",
       "      <th>3</th>\n",
       "      <td>51</td>\n",
       "      <td>101</td>\n",
       "      <td>4</td>\n",
       "      <td>3. â€œBilling Cycleâ€ means a monthly billing...</td>\n",
       "    </tr>\n",
       "    <tr>\n",
       "      <th>4</th>\n",
       "      <td>51</td>\n",
       "      <td>101</td>\n",
       "      <td>5</td>\n",
       "      <td>6. â€œCash Advanceâ€ means credit you or an A...</td>\n",
       "    </tr>\n",
       "  </tbody>\n",
       "</table>\n",
       "</div>"
      ],
      "text/plain": [
       "   Folder ID  Document ID  Paragraph ID  \\\n",
       "0         51          101             1   \n",
       "1         51          101             2   \n",
       "2         51          101             3   \n",
       "3         51          101             4   \n",
       "4         51          101             5   \n",
       "\n",
       "                                           Paragraph  \n",
       "0  In this Credit Card Agreement (â€œAgreementâ€...  \n",
       "1  THIS AGREEMENT CONTAINS AN ARBITRATION PROVISI...  \n",
       "2  Definitions. Other defined terms used in this ...  \n",
       "3  3. â€œBilling Cycleâ€ means a monthly billing...  \n",
       "4  6. â€œCash Advanceâ€ means credit you or an A...  "
      ]
     },
     "execution_count": 5,
     "metadata": {},
     "output_type": "execute_result"
    }
   ],
   "source": [
    "df1"
   ]
  },
  {
   "cell_type": "code",
   "execution_count": 6,
   "metadata": {},
   "outputs": [],
   "source": [
    "df1.drop(['Folder ID', 'Document ID', \n",
    "                'Paragraph ID'], axis=1, inplace=True)"
   ]
  },
  {
   "cell_type": "code",
   "execution_count": 7,
   "metadata": {},
   "outputs": [
    {
     "data": {
      "text/html": [
       "<div>\n",
       "<style scoped>\n",
       "    .dataframe tbody tr th:only-of-type {\n",
       "        vertical-align: middle;\n",
       "    }\n",
       "\n",
       "    .dataframe tbody tr th {\n",
       "        vertical-align: top;\n",
       "    }\n",
       "\n",
       "    .dataframe thead th {\n",
       "        text-align: right;\n",
       "    }\n",
       "</style>\n",
       "<table border=\"1\" class=\"dataframe\">\n",
       "  <thead>\n",
       "    <tr style=\"text-align: right;\">\n",
       "      <th></th>\n",
       "      <th>Paragraph</th>\n",
       "    </tr>\n",
       "  </thead>\n",
       "  <tbody>\n",
       "    <tr>\n",
       "      <th>0</th>\n",
       "      <td>In this Credit Card Agreement (â€œAgreementâ€...</td>\n",
       "    </tr>\n",
       "    <tr>\n",
       "      <th>1</th>\n",
       "      <td>THIS AGREEMENT CONTAINS AN ARBITRATION PROVISI...</td>\n",
       "    </tr>\n",
       "    <tr>\n",
       "      <th>2</th>\n",
       "      <td>Definitions. Other defined terms used in this ...</td>\n",
       "    </tr>\n",
       "    <tr>\n",
       "      <th>3</th>\n",
       "      <td>3. â€œBilling Cycleâ€ means a monthly billing...</td>\n",
       "    </tr>\n",
       "    <tr>\n",
       "      <th>4</th>\n",
       "      <td>6. â€œCash Advanceâ€ means credit you or an A...</td>\n",
       "    </tr>\n",
       "  </tbody>\n",
       "</table>\n",
       "</div>"
      ],
      "text/plain": [
       "                                           Paragraph\n",
       "0  In this Credit Card Agreement (â€œAgreementâ€...\n",
       "1  THIS AGREEMENT CONTAINS AN ARBITRATION PROVISI...\n",
       "2  Definitions. Other defined terms used in this ...\n",
       "3  3. â€œBilling Cycleâ€ means a monthly billing...\n",
       "4  6. â€œCash Advanceâ€ means credit you or an A..."
      ]
     },
     "execution_count": 7,
     "metadata": {},
     "output_type": "execute_result"
    }
   ],
   "source": [
    "df1"
   ]
  },
  {
   "cell_type": "code",
   "execution_count": 8,
   "metadata": {},
   "outputs": [],
   "source": [
    "for i, row in df1.iterrows():\n",
    "    if i > len(df1):\n",
    "       break\n",
    "    else:\n",
    "       file = open(str(i)+'.txt', 'w',encoding='utf-8')\n",
    "       file.write(row[0])\n",
    "       file.close()\n",
    "       i+=1"
   ]
  },
  {
   "cell_type": "code",
   "execution_count": null,
   "metadata": {},
   "outputs": [],
   "source": []
  },
  {
   "cell_type": "code",
   "execution_count": null,
   "metadata": {},
   "outputs": [],
   "source": []
  }
 ],
 "metadata": {
  "kernelspec": {
   "display_name": "Python 3",
   "language": "python",
   "name": "python3"
  },
  "language_info": {
   "codemirror_mode": {
    "name": "ipython",
    "version": 3
   },
   "file_extension": ".py",
   "mimetype": "text/x-python",
   "name": "python",
   "nbconvert_exporter": "python",
   "pygments_lexer": "ipython3",
   "version": "3.7.6"
  }
 },
 "nbformat": 4,
 "nbformat_minor": 4
}
